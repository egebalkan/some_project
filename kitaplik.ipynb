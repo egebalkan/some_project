{
 "cells": [
  {
   "cell_type": "code",
   "execution_count": 2,
   "metadata": {},
   "outputs": [],
   "source": [
    "import pandas as pd\n",
    "import numpy as np\n",
    "import Tkinter as tk\n",
    "import csv"
   ]
  },
  {
   "cell_type": "code",
   "execution_count": 3,
   "metadata": {},
   "outputs": [],
   "source": [
    "def kitap_ekle():\n",
    "    f = open(\"books.csv\",\"a+\")\n",
    "    \n",
    "    kitap = raw_input(\"Kitap ismi girin \\n\")\n",
    "    yazar = raw_input(\"Yazar ismi girin \\n\")\n",
    "    yer   = raw_input(\"Kitap nerede? \\n\")\n",
    "    \n",
    "    f.write(kitap +\",\"+ yazar +\",\"+ yer +\"\\n\")\n",
    "    f.close()"
   ]
  },
  {
   "cell_type": "code",
   "execution_count": 4,
   "metadata": {},
   "outputs": [],
   "source": [
    "def kitap_ara():\n",
    "    try:\n",
    "        \n",
    "        books=pd.read_csv(\"books.csv\")\n",
    "        kitap = raw_input(\"Kitap ismi girin \\n\")\n",
    "        index = books[books['Kitap']==kitap].index[0]\n",
    "        book_found = books.iloc[index]\n",
    "        print(\"Kitap bulundu! \\n\")\n",
    "        print(book_found)\n",
    "        \n",
    "    except IndexError as noBook:\n",
    "            print(\"Kitap bulunamadi! \\n\")"
   ]
  },
  {
   "cell_type": "code",
   "execution_count": 135,
   "metadata": {},
   "outputs": [],
   "source": [
    "def books():\n",
    "    \n",
    "    fr_books = tk.Frame()\n",
    "    fr_books.grid()\n",
    "    \n",
    "    fr_main.grid_forget()\n",
    "    widget = fr_books\n",
    "    \n",
    "    btn_search = tk.Button(\n",
    "        fr_books,\n",
    "        text=\"Kitap Ara\",\n",
    "        command = kitap_ara\n",
    "        )\n",
    "    btn_add = tk.Button(\n",
    "        fr_books,\n",
    "        text=\"Kitap Ekle\",\n",
    "        command = kitap_ekle\n",
    "        )\n",
    "    btn_back = tk.Button(\n",
    "        fr_books,\n",
    "        text = \"Anasayfa\",\n",
    "        command = main()\n",
    "        )\n",
    "    btn_search.grid(row = 0, column= 0 , sticky=\"ew\", padx=10, pady=10)\n",
    "    btn_add.grid(   row = 0, column= 2 , sticky=\"ew\", padx=10)\n",
    "    btn_back.grid(  row = 1, column = 1, sticky=\"ew\")\n",
    "    \n",
    "    "
   ]
  },
  {
   "cell_type": "code",
   "execution_count": 139,
   "metadata": {},
   "outputs": [],
   "source": [
    "def main():\n",
    "    \n",
    "    root= tk.Tk()\n",
    "\n",
    "    root.title(\"Arayan Bulur\")\n",
    "    root.rowconfigure(0, minsize=100, weight=1)\n",
    "    root.columnconfigure(0, weight=1)\n",
    "    root.columnconfigure(1, weight=1)\n",
    "    root.columnconfigure(2, weight=1)\n",
    "    \n",
    "    fr_main = tk.Frame()\n",
    "    fr_main.grid()\n",
    "\n",
    "    btn_book = tk.Button(\n",
    "        fr_main,\n",
    "        text = \"Kitap\",\n",
    "        command = books\n",
    "        )\n",
    "\n",
    "    btn_cd = tk.Button(\n",
    "        fr_main,\n",
    "        text = \"CD\"\n",
    "        )\n",
    "\n",
    "    btn_dvd = tk.Button(\n",
    "        fr_main,\n",
    "        text = \"DVD\"\n",
    "        )\n",
    "\n",
    "    btn_book.grid( row = 0, column = 0, sticky = \"ew\", padx=10, pady=5)\n",
    "    btn_cd.grid(   row = 0, column = 1, sticky = \"ew\", padx=10, pady=5)\n",
    "    btn_dvd.grid(  row = 0, column = 2, sticky = \"ew\", padx=10, pady=5)"
   ]
  },
  {
   "cell_type": "code",
   "execution_count": null,
   "metadata": {},
   "outputs": [],
   "source": [
    "\n",
    "    "
   ]
  },
  {
   "cell_type": "code",
   "execution_count": 137,
   "metadata": {},
   "outputs": [],
   "source": [
    "# root= tk.Tk()\n",
    "\n",
    "# root.title(\"Arayan Bulur\")\n",
    "# root.rowconfigure(0, minsize=100, weight=1)\n",
    "# root.columnconfigure(0, weight=1)\n",
    "# root.columnconfigure(1, weight=1)\n",
    "# root.columnconfigure(2, weight=1)\n",
    "\n",
    "# fr_main = tk.Frame(root)\n",
    "# fr_main.grid()\n",
    "\n",
    "# btn_book = tk.Button(\n",
    "#     fr_main,\n",
    "#     text = \"Kitap\",\n",
    "#     command = books\n",
    "#     )\n",
    "\n",
    "# btn_cd = tk.Button(\n",
    "#     fr_main,\n",
    "#     text = \"CD\"\n",
    "#     )\n",
    "\n",
    "# btn_dvd = tk.Button(\n",
    "#     fr_main,\n",
    "#     text = \"DVD\"\n",
    "#     )\n",
    "\n",
    "# btn_book.grid( row = 0, column = 0, sticky = \"ew\", padx=10, pady=5)\n",
    "# btn_cd.grid(   row = 0, column = 1, sticky = \"ew\", padx=10, pady=5)\n",
    "# btn_dvd.grid(  row = 0, column = 2, sticky = \"ew\", padx=10, pady=5)\n"
   ]
  },
  {
   "cell_type": "code",
   "execution_count": 140,
   "metadata": {},
   "outputs": [],
   "source": [
    "root.mainloop() "
   ]
  },
  {
   "cell_type": "code",
   "execution_count": null,
   "metadata": {},
   "outputs": [],
   "source": []
  },
  {
   "cell_type": "code",
   "execution_count": null,
   "metadata": {},
   "outputs": [],
   "source": []
  },
  {
   "cell_type": "code",
   "execution_count": null,
   "metadata": {},
   "outputs": [],
   "source": []
  },
  {
   "cell_type": "code",
   "execution_count": null,
   "metadata": {},
   "outputs": [],
   "source": []
  }
 ],
 "metadata": {
  "kernelspec": {
   "display_name": "Python 2",
   "language": "python",
   "name": "python2"
  },
  "language_info": {
   "codemirror_mode": {
    "name": "ipython",
    "version": 2
   },
   "file_extension": ".py",
   "mimetype": "text/x-python",
   "name": "python",
   "nbconvert_exporter": "python",
   "pygments_lexer": "ipython2",
   "version": "2.7.12"
  }
 },
 "nbformat": 4,
 "nbformat_minor": 2
}
